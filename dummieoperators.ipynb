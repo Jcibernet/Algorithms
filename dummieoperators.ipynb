{
 "cells": [
  {
   "cell_type": "code",
   "execution_count": 1,
   "metadata": {},
   "outputs": [],
   "source": [
    "import pandas as pd\n",
    "import numpy as np"
   ]
  },
  {
   "cell_type": "code",
   "execution_count": 2,
   "metadata": {},
   "outputs": [
    {
     "name": "stdout",
     "output_type": "stream",
     "text": [
      "       name  sales region\n",
      "0   William  50000   East\n",
      "1      Emma  52000  North\n",
      "2     Sofia  90000   East\n",
      "3    Markus  34000  South\n",
      "4    Edward  42000   West\n",
      "5    Thomas  72000   West\n",
      "6     Ethan  49000  South\n",
      "7    Olivia  55000   West\n",
      "8      Arun  67000   West\n",
      "9     Anika  65000   East\n",
      "10    Paulo  67000    NaN\n"
     ]
    }
   ],
   "source": [
    "sales_data = pd.DataFrame({\"name\":[\"William\",\"Emma\",\"Sofia\",\"Markus\",\"Edward\",\"Thomas\",\"Ethan\",\"Olivia\",\"Arun\",\"Anika\",\"Paulo\"]\n",
    "                           ,\"sales\":[50000,52000,90000,34000,42000,72000,49000,55000,67000,65000,67000]\n",
    "                           ,\"region\":[\"East\",\"North\",\"East\",\"South\",\"West\",\"West\",\"South\",\"West\",\"West\",\"East\",np.nan]\n",
    "                           }\n",
    "                          )\n",
    "print(sales_data)                          "
   ]
  },
  {
   "cell_type": "code",
   "execution_count": 3,
   "metadata": {},
   "outputs": [
    {
     "name": "stdout",
     "output_type": "stream",
     "text": [
      "0      East\n",
      "1     North\n",
      "2      East\n",
      "3     South\n",
      "4      West\n",
      "5      West\n",
      "6     South\n",
      "7      West\n",
      "8      West\n",
      "9      East\n",
      "10      NaN\n",
      "Name: region, dtype: object\n"
     ]
    }
   ],
   "source": [
    "region = sales_data.region\n",
    "print(region)"
   ]
  },
  {
   "cell_type": "code",
   "execution_count": null,
   "metadata": {},
   "outputs": [],
   "source": [
    "pd.get_dummies(region)"
   ]
  }
 ],
 "metadata": {
  "kernelspec": {
   "display_name": "Python 3",
   "language": "python",
   "name": "python3"
  },
  "language_info": {
   "codemirror_mode": {
    "name": "ipython",
    "version": 3
   },
   "file_extension": ".py",
   "mimetype": "text/x-python",
   "name": "python",
   "nbconvert_exporter": "python",
   "pygments_lexer": "ipython3",
   "version": "3.10.10"
  },
  "orig_nbformat": 4,
  "vscode": {
   "interpreter": {
    "hash": "73060ad2a54a11019b7dc3b1319a8e0175581e12bd805da4962fdc08bc31013e"
   }
  }
 },
 "nbformat": 4,
 "nbformat_minor": 2
}
